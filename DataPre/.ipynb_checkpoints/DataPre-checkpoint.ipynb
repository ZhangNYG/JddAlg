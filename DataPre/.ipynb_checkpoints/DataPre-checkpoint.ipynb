{
 "cells": [
  {
   "cell_type": "code",
   "execution_count": 7,
   "metadata": {},
   "outputs": [
    {
     "name": "stdout",
     "output_type": "stream",
     "text": [
      "           dt  shop_id  sale_amt_3m\n",
      "0  2016-12-31     2143     72983.09\n",
      "1  2016-07-31     2143    106943.03\n",
      "2  2016-08-31     2143    183723.36\n",
      "3  2016-09-30     2143    235568.57\n",
      "4  2016-11-30     2143     80115.29\n",
      "5  2016-12-31     1559     67228.29\n",
      "6  2016-08-31     1559    267183.30\n",
      "7  2017-01-31     1559     83264.96\n",
      "8  2016-10-31     1559    123020.74\n",
      "9  2016-12-31     1296     24583.73\n",
      "24000\n"
     ]
    },
    {
     "data": {
      "text/html": [
       "<div>\n",
       "<style>\n",
       "    .dataframe thead tr:only-child th {\n",
       "        text-align: right;\n",
       "    }\n",
       "\n",
       "    .dataframe thead th {\n",
       "        text-align: left;\n",
       "    }\n",
       "\n",
       "    .dataframe tbody tr th {\n",
       "        vertical-align: top;\n",
       "    }\n",
       "</style>\n",
       "<table border=\"1\" class=\"dataframe\">\n",
       "  <thead>\n",
       "    <tr style=\"text-align: right;\">\n",
       "      <th></th>\n",
       "      <th>dt</th>\n",
       "      <th>shop_id</th>\n",
       "      <th>sale_amt_3m</th>\n",
       "    </tr>\n",
       "  </thead>\n",
       "  <tbody>\n",
       "    <tr>\n",
       "      <th>0</th>\n",
       "      <td>2016-12-31</td>\n",
       "      <td>2143</td>\n",
       "      <td>72983.09</td>\n",
       "    </tr>\n",
       "    <tr>\n",
       "      <th>1</th>\n",
       "      <td>2016-07-31</td>\n",
       "      <td>2143</td>\n",
       "      <td>106943.03</td>\n",
       "    </tr>\n",
       "    <tr>\n",
       "      <th>2</th>\n",
       "      <td>2016-08-31</td>\n",
       "      <td>2143</td>\n",
       "      <td>183723.36</td>\n",
       "    </tr>\n",
       "    <tr>\n",
       "      <th>3</th>\n",
       "      <td>2016-09-30</td>\n",
       "      <td>2143</td>\n",
       "      <td>235568.57</td>\n",
       "    </tr>\n",
       "    <tr>\n",
       "      <th>4</th>\n",
       "      <td>2016-11-30</td>\n",
       "      <td>2143</td>\n",
       "      <td>80115.29</td>\n",
       "    </tr>\n",
       "  </tbody>\n",
       "</table>\n",
       "</div>"
      ],
      "text/plain": [
       "           dt  shop_id  sale_amt_3m\n",
       "0  2016-12-31     2143     72983.09\n",
       "1  2016-07-31     2143    106943.03\n",
       "2  2016-08-31     2143    183723.36\n",
       "3  2016-09-30     2143    235568.57\n",
       "4  2016-11-30     2143     80115.29"
      ]
     },
     "execution_count": 7,
     "metadata": {},
     "output_type": "execute_result"
    }
   ],
   "source": [
    "import pandas as pd\n",
    "df_sales=pd.read_csv(r'./t_sales_sum.csv')\n",
    "df_sales=df_sales.drop_duplicates()\n",
    "print(df_sales.head(10))\n",
    "print(len(df_sales))\n",
    "df_sales.to_csv(r'./Droped_t_sales_sum.csv', index=None)\n",
    "df_sales.head()"
   ]
  },
  {
   "cell_type": "code",
   "execution_count": null,
   "metadata": {
    "collapsed": true
   },
   "outputs": [],
   "source": []
  }
 ],
 "metadata": {
  "kernelspec": {
   "display_name": "Python 3",
   "language": "python",
   "name": "python3"
  },
  "language_info": {
   "codemirror_mode": {
    "name": "ipython",
    "version": 3
   },
   "file_extension": ".py",
   "mimetype": "text/x-python",
   "name": "python",
   "nbconvert_exporter": "python",
   "pygments_lexer": "ipython3",
   "version": "3.6.3"
  }
 },
 "nbformat": 4,
 "nbformat_minor": 2
}
